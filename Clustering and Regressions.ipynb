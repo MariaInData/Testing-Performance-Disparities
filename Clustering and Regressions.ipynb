{
 "cells": [
  {
   "cell_type": "code",
   "execution_count": null,
   "id": "ff02c96e",
   "metadata": {},
   "outputs": [],
   "source": [
    "#Import Libraries"
   ]
  },
  {
   "cell_type": "code",
   "execution_count": null,
   "id": "17d1d9f3",
   "metadata": {},
   "outputs": [],
   "source": [
    "import pandas as pd\n",
    "import numpy as np\n",
    "import os, sys, gc, time, warnings, pickle, psutil, random\n",
    "import matplotlib.pyplot as plt\n",
    "import statsmodels.api as sm\n",
    "import math\n",
    "from sklearn.preprocessing import MinMaxScaler\n",
    "from sklearn.cluster import KMeans\n",
    "from sklearn.linear_model import LogisticRegression\n",
    "import seaborn as sns\n",
    "from IPython.display import Image, display\n",
    "warnings.filterwarnings('ignore')"
   ]
  },
  {
   "cell_type": "code",
   "execution_count": null,
   "id": "df068bcd",
   "metadata": {},
   "outputs": [],
   "source": [
    "#Helper Functions to clean data can't be shown due to confidentiality"
   ]
  },
  {
   "cell_type": "code",
   "execution_count": null,
   "id": "ab2b4ad0",
   "metadata": {},
   "outputs": [],
   "source": [
    "#Preaparing data for propensity score matching"
   ]
  },
  {
   "cell_type": "code",
   "execution_count": null,
   "id": "d32e7a15",
   "metadata": {},
   "outputs": [],
   "source": [
    " #define function to generate dataret for latter matching use\n",
    "def psm(df):\n",
    "    median1 = df.test_center_resident_ratio.median()\n",
    "    median2 = df.test_center_take_test_ratio.median()\n",
    "    median3 = df.prep_course_ratio.median()\n",
    "    median4 = df.prep_test_ratio.median()\n",
    "    median5 = df.prep_resource_ratio.median()\n",
    "\n",
    "    df['test_center_resident_ratio'] = np.where(df['test_center_resident_ratio']<=median1, 0,\n",
    "    df['test_center_resident_ratio'])\n",
    "    df['test_center_resident_ratio'] = np.where(df['test_center_resident_ratio'] >median1, 1,\n",
    "    df['test_center_resident_ratio'])\n",
    "    df['test_center_take_test_ratio'] = np.where(df['test_center_take_test_ratio'] <= median2, 0,\n",
    "    df['test_center_take_test_ratio'])\n",
    "    df['test_center_take_test_ratio'] = np.where(df['test_center_take_test_ratio'] > median2, 1,\n",
    "    df['test_center_take_test_ratio'])\n",
    "    df['prep_course_ratio'] = np.where(df['prep_course_ratio'] <= median3, 0,df['prep_course_ratio'])\n",
    "    df['prep_course_ratio'] = np.where(df['prep_course_ratio'] > median3, 1,df['prep_course_ratio'])\n",
    "    df['prep_test_ratio'] = np.where(df['prep_test_ratio'] <= median4, 0,df['prep_test_ratio'])\n",
    "    df['prep_test_ratio'] = np.where(df['prep_test_ratio'] > median4, 1,df['prep_test_ratio'])\n",
    "    df['prep_resource_ratio'] = np.where(df['prep_resource_ratio'] <= median5, 0,df['prep_resource_ratio'])\n",
    "    df['prep_resource_ratio'] = np.where(df['prep_resource_ratio'] > median5, 1,df['prep_resource_ratio'])\n",
    "    X = df[['total_population', 'edu_less_highshcool', 'total_edu_greater_highschool',\n",
    "    'total_income_less_45k', 'total_income_greater_45k', 'race_white','race_asian',\n",
    "    'race_african_american','female_population','employment_rate']]\n",
    "    y = df['prep_resource_ratio']\n",
    "    return df"
   ]
  },
  {
   "cell_type": "code",
   "execution_count": null,
   "id": "4a822691",
   "metadata": {},
   "outputs": [],
   "source": [
    "f = pd.read_csv('candidate_based.csv')\n",
    "df = psm(df)"
   ]
  },
  {
   "cell_type": "code",
   "execution_count": null,
   "id": "066a52e3",
   "metadata": {},
   "outputs": [],
   "source": [
    "df.to_csv('matching.csv', index=False)"
   ]
  },
  {
   "cell_type": "code",
   "execution_count": null,
   "id": "b666d267",
   "metadata": {},
   "outputs": [],
   "source": [
    "#matching was done in R"
   ]
  },
  {
   "cell_type": "code",
   "execution_count": null,
   "id": "3fe948cf",
   "metadata": {},
   "outputs": [],
   "source": []
  },
  {
   "cell_type": "code",
   "execution_count": null,
   "id": "715500b3",
   "metadata": {},
   "outputs": [],
   "source": [
    "#importing results from Matching done in R"
   ]
  },
  {
   "cell_type": "code",
   "execution_count": null,
   "id": "0ff12bbd",
   "metadata": {},
   "outputs": [],
   "source": [
    "# read the test resource dataset after PSM \n",
    "df1 = pd.read_csv(\"match_test_center_take_test_ratio.csv\")\n",
    "df2 = pd.read_csv(\"match_test_center_resident_ratio.csv\")\n",
    "df3 = pd.read_csv(\"match_prep_test_ratio.csv\")\n",
    "df4 = pd.read_csv(\"match_prep_course_ratio.csv\")"
   ]
  },
  {
   "cell_type": "code",
   "execution_count": null,
   "id": "d6681e2f",
   "metadata": {},
   "outputs": [],
   "source": [
    "#running Linear regressions"
   ]
  },
  {
   "cell_type": "code",
   "execution_count": null,
   "id": "a08f4e85",
   "metadata": {},
   "outputs": [],
   "source": [
    "# do ols regression on all the data"
   ]
  },
  {
   "cell_type": "code",
   "execution_count": null,
   "id": "5fd39754",
   "metadata": {},
   "outputs": [],
   "source": [
    "#regress all test passing rate on teh test center utilization\n",
    "y1 = df1['All_test_passing_rate']\n",
    "x1 = df1[['test_center_take_test_ratio']]\n",
    "x1 = sm.add_constant(x1)\n",
    "model1 = sm.OLS(y1,x1)\n",
    "fitmodel1 = model1.fit()"
   ]
  },
  {
   "cell_type": "code",
   "execution_count": null,
   "id": "57477547",
   "metadata": {},
   "outputs": [],
   "source": [
    "#Below, we regress the all test passing rate on the test center capacity. \n",
    "#We mentioned the calculation of test center capacity in matching.\n",
    "y2 = df2['All_test_passing_rate']\n",
    "x2 = df2[['test_center_resident_ratio']]\n",
    "x2 = sm.add_constant(x2)\n",
    "model2 = sm.OLS(y2,x2)\n",
    "fitmodel2 = model2.fit()\n",
    "print(\"\\n\")\n",
    "print(fitmodel2.summary())\n",
    "print(\"\\n\\n\\n\")"
   ]
  },
  {
   "cell_type": "code",
   "execution_count": null,
   "id": "f361ecd5",
   "metadata": {},
   "outputs": [],
   "source": [
    "#Below, we regress the all test passing rate on prep course. We mentioned the calculation of prep course in matching."
   ]
  },
  {
   "cell_type": "code",
   "execution_count": null,
   "id": "5e41c707",
   "metadata": {},
   "outputs": [],
   "source": [
    "y4 = df4['All_test_passing_rate']\n",
    "x4 = df4[['prep_course_ratio']]\n",
    "x4 = sm.add_constant(x4)\n",
    "model4 = sm.OLS(y4,x4)\n",
    "fitmodel4 = model4.fit()\n",
    "print(\"\\n\")\n",
    "print(fitmodel4.summary())\n",
    "print(\"\\n\\n\\n\")"
   ]
  },
  {
   "cell_type": "code",
   "execution_count": null,
   "id": "a997337c",
   "metadata": {},
   "outputs": [],
   "source": [
    "# regress the all test passing rate on prep test. We mentioned the calculation of prep test in matching\n",
    "y3 = df3['All_test_passing_rate']\n",
    "x3 = df3[['prep_test_ratio']]\n",
    "x3 = sm.add_constant(x3)\n",
    "model3 = sm.OLS(y3,x3)\n",
    "fitmodel3 = model3.fit()\n",
    "print(\"\\n\")\n",
    "print(fitmodel3.summary())\n",
    "print(\"\\n\\n\\n\""
   ]
  },
  {
   "cell_type": "code",
   "execution_count": null,
   "id": "c07e2eaa",
   "metadata": {},
   "outputs": [],
   "source": [
    "#K-means clustering"
   ]
  },
  {
   "cell_type": "code",
   "execution_count": null,
   "id": "af5d5904",
   "metadata": {},
   "outputs": [],
   "source": [
    " # dataset used for clustering\n",
    "df_cluster = df_city.iloc[:, 3:]\n",
    "# put all of the KPI we set into new dataset for clustering use\n",
    "df_cluster = df_city[['state','county','city','exam_math_median_score','exam_reasoning_median_score',\n",
    " 'exam_science_median_score','exam_social_studies_median_score',\n",
    "'All_test_passing_rate','math_pass_rate','reasoning_pass_rate',\n",
    " 'science_pass_rate','social_studies_pass_rate']].iloc[:, 3:]\n",
    "# do min-max normalization to transform all of the features included into same scale\n",
    "df_standard = MinMaxScaler().fit_transform(df_cluster)"
   ]
  },
  {
   "cell_type": "code",
   "execution_count": null,
   "id": "a0a0e3df",
   "metadata": {},
   "outputs": [],
   "source": [
    "#selecting number of clusters"
   ]
  },
  {
   "cell_type": "code",
   "execution_count": null,
   "id": "c90a5ea0",
   "metadata": {},
   "outputs": [],
   "source": [
    "distortions = []\n",
    "# use different number of clusters from 1-9 to generate different result for below error-rate checking\n",
    "K = range(1,10)\n",
    "for k in K:\n",
    " kmeanModel = KMeans(n_clusters=k)\n",
    " kmeanModel.fit(df_standard)\n",
    " distortions.append(kmeanModel.inertia_"
   ]
  },
  {
   "cell_type": "code",
   "execution_count": null,
   "id": "daf6974b",
   "metadata": {},
   "outputs": [],
   "source": [
    " # plot out the Elbow Curve to find the optimal number of clusters to use\n",
    "# in this case, we use 2 as our cluster number\n",
    "plt.plot(K, distortions, 'bx-')\n",
    "plt.xlabel(k)\n",
    "plt.ylabel('Distortion')\n",
    "ax = plt.gca()\n",
    "ax.set_xticks(range(1,k+1))\n",
    "plt.title('The Elbow Method showing the optimal k')\n",
    "plt.show()"
   ]
  },
  {
   "cell_type": "code",
   "execution_count": null,
   "id": "44d828a6",
   "metadata": {},
   "outputs": [],
   "source": [
    "# generate 2 clusters using our post-normalization city-level KPI dataset\n",
    "kmeans = KMeans(n_clusters = 2, random_state = 1)\n",
    "kmeans.fit(df_standard)"
   ]
  },
  {
   "cell_type": "code",
   "execution_count": null,
   "id": "49a45902",
   "metadata": {},
   "outputs": [],
   "source": [
    "# map the clustering result, aka the label back to each city\n",
    "df_kmeans = df_city.copy()\n",
    "df_kmeans['label'] = kmeans.labels_"
   ]
  },
  {
   "cell_type": "code",
   "execution_count": null,
   "id": "60de18fe",
   "metadata": {},
   "outputs": [],
   "source": [
    " # dataset stats overview\n",
    "df_kmeans.groupby('label').mean().T"
   ]
  },
  {
   "cell_type": "code",
   "execution_count": null,
   "id": "5faa4b54",
   "metadata": {},
   "outputs": [],
   "source": [
    " data size for each cluster\n",
    "df_kmeans.groupby('label').size()"
   ]
  },
  {
   "cell_type": "code",
   "execution_count": null,
   "id": "4d60a3d9",
   "metadata": {},
   "outputs": [],
   "source": [
    "#second level regression - only on worst performing cities"
   ]
  },
  {
   "cell_type": "code",
   "execution_count": null,
   "id": "3843cb70",
   "metadata": {},
   "outputs": [],
   "source": [
    "# test resource treatment\n",
    "df_test_resource_treatment = [df3, df4]\n",
    "# test resource treatment\n",
    "test_resource_treatment = [\"prep_test_ratio\",\"prep_course_ratio\"]\n",
    "df_list_bad = []"
   ]
  },
  {
   "cell_type": "code",
   "execution_count": null,
   "id": "7b8736a1",
   "metadata": {},
   "outputs": [],
   "source": [
    "# prepare bad cluster matching data\n",
    "# path\n",
    "bad_match_bad_test_resource = '../bad_match_bad_test_resource/'\n",
    "# define bad match bed test resource treatment function\n",
    "def bad_bad_test_resource(df_test_resource_treatment):\n",
    "    for i, df in enumerate(df_test_resource_treatment):\n",
    " \n",
    "    df = df_test_resource_treatment[i]\n",
    "  \n",
    "    df = df[df['label'] == 1]\n",
    " \n",
    "    df = df.sort_values([\"subclass\",test_resource_treatment[i]])\n",
    " \n",
    "    df = df.groupby(\"subclass\").filter(lambda x:len(x)==2)\n",
    " \n",
    "    df_list_bad.append(df)\n",
    "    df.to_csv(bad_match_bad_test_resource + test_resource_treatment[i] + \"_bad.csv\",index=False)"
   ]
  },
  {
   "cell_type": "code",
   "execution_count": null,
   "id": "c5dee2ad",
   "metadata": {},
   "outputs": [],
   "source": [
    "bad_bad_test_resource(df_test_resource_treatment)"
   ]
  },
  {
   "cell_type": "code",
   "execution_count": null,
   "id": "65938a03",
   "metadata": {},
   "outputs": [],
   "source": [
    "def regression_bad(df_list_bad):\n",
    "    i = 0\n",
    "    for kpi in test_resource_treatment:\n",
    "        y = df_list_bad[i]['All_test_passing_rate']\n",
    "        x = df_list_bad[i][[kpi]]\n",
    "        x = sm.add_constant(x)\n",
    "        model = sm.OLS(y,x)\n",
    "        fitmodel = model.fit()\n",
    "        print(kpi + \" regression\")\n",
    "        print(\"\\n\")\n",
    "        print(fitmodel.summary())\n",
    "        print(\"\\n\\n\\n\")\n",
    "        i += 1"
   ]
  },
  {
   "cell_type": "code",
   "execution_count": null,
   "id": "dc36b72d",
   "metadata": {},
   "outputs": [],
   "source": [
    "regression(df_list_bad)"
   ]
  },
  {
   "cell_type": "code",
   "execution_count": null,
   "id": "b0c2857c",
   "metadata": {},
   "outputs": [],
   "source": [
    "#study aides helpfulness regression"
   ]
  },
  {
   "cell_type": "code",
   "execution_count": null,
   "id": "0aa5eaa1",
   "metadata": {},
   "outputs": [],
   "source": [
    "# read the prep course dataset after PSM \n",
    "dfb1 = pd.read_csv(\"STUDY_HELPFUL_ADULT_EDUCATION_CLASS.csv\")\n",
    "dfb2 = pd.read_csv(\"STUDY_HELPFUL_ADULT_EDUCATION_TEACHER.csv\")\n",
    "dfb3 = pd.read_csv(\"STUDY_HELPFUL_AUDIO_STUDY_MATERIALS.csv\")\n",
    "dfb4 = pd.read_csv(\"STUDY_HELPFUL_BOOKS_PRINTED_STUDY_MATERIAL.csv\")\n",
    "dfb5 = pd.read_csv(\"STUDY_HELPFUL_exam_READY.csv\")\n",
    "dfb6 = pd.read_csv(\"STUDY_HELPFUL_MATERIALS_MOBILE_APP.csv\")\n",
    "dfb7 = pd.read_csv(\"STUDY_HELPFUL_ONLINE_COURSE_VIDEO_STUDY_MATERIALS.csv\")\n",
    "dfb8 = pd.read_csv(\"STUDY_HELPFUL_OTHER.csv\")\n",
    "dfb9 = pd.read_csv(\"STUDY_HELPFUL_SOCIAL_NETWORKING_WEBSITE.csv\")\n",
    "dfb10 = pd.read_csv(\"STUDY_HELPFUL_TV_STUDY_PROGRAM.csv\")\n",
    "dfb11 = pd.read_csv(\"STUDY_LOCATION_TEST_PREPARATION_CENTER.csv\""
   ]
  },
  {
   "cell_type": "code",
   "execution_count": null,
   "id": "58baf4d6",
   "metadata": {},
   "outputs": [],
   "source": [
    "# prep course treatment list\n",
    "prep_course_treatment =['STUDY_HELPFUL_ADULT_EDUCATION_CLASS','STUDY_HELPFUL_ADULT_EDUCATION_TEACHER',\n",
    " 'STUDY_HELPFUL_AUDIO_STUDY_MATERIALS','STUDY_HELPFUL_BOOKS_PRINTED_STUDY_MATERIAL',\n",
    "'STUDY_HELPFUL_MATERIALS_MOBILE_APP',\n",
    "'STUDY_HELPFUL_ONLINE_COURSE_VIDEO_STUDY_MATERIALS',\n",
    "'STUDY_HELPFUL_SOCIAL_NETWORKING_WEBSITE','STUDY_HELPFUL_TV_STUDY_PROGRAM',\n",
    "'STUDY_LOCATION_TEST_PREPARATION_CENTER']\n",
    "# file dataframe list\n",
    "df_prep_resource_list= [dfb1, dfb2, dfb3, dfb4,dfb6, dfb7, dfb9, dfb10, dfb11]\n",
    "# path\n",
    "bad_prep_course = '../bad_prep_course/'\n",
    "df_list_help = []\n",
    "# define bad match bad prep course treatment function\n",
    "def bad_bad_prep_course(df_prep_resource_list,prep_course_treatment):\n",
    "    for i, df in enumerate(df_prep_resource_list):\n",
    "        df = df_prep_resource_list[i]\n",
    "        df = df[df['label'] == 1]\n",
    "        df = df.sort_values([\"subclass\",prep_course_treatment[i]])\n",
    "        df = df.groupby(\"subclass\").filter(lambda x:len(x)==2)\n",
    "        df.to_csv(bad_prep_course + prep_course_treatment[i] + \"_bad.csv\",index=False)\n",
    "        df_list_help.append(df)"
   ]
  },
  {
   "cell_type": "code",
   "execution_count": null,
   "id": "635f1cb1",
   "metadata": {},
   "outputs": [],
   "source": [
    "bad_bad_prep_course(df_prep_resource_list,prep_course_treatment)"
   ]
  },
  {
   "cell_type": "code",
   "execution_count": null,
   "id": "688d31d2",
   "metadata": {},
   "outputs": [],
   "source": [
    "def regression_help(df_list_help):\n",
    "    i = 0\n",
    "    for kpi in prep_course_treatment:\n",
    "        y = df_list_help[i]['All_test_passing_rate']\n",
    "        x = df_list_help[i][kpi]\n",
    "        x = sm.add_constant(x)\n",
    "        model = sm.OLS(y,x)\n",
    "        fitmodel = model.fit()\n",
    "        print(kpi + \" regression\")\n",
    "        print(\"\\n\")\n",
    "        print(fitmodel.summary())\n",
    "        print(\"\\n\\n\\n)\n",
    "        i+=1"
   ]
  },
  {
   "cell_type": "code",
   "execution_count": null,
   "id": "922f997d",
   "metadata": {},
   "outputs": [],
   "source": [
    " regression_help(df_list_help)"
   ]
  },
  {
   "cell_type": "code",
   "execution_count": null,
   "id": "0cd9c959",
   "metadata": {},
   "outputs": [],
   "source": []
  },
  {
   "cell_type": "code",
   "execution_count": null,
   "id": "f204a649",
   "metadata": {},
   "outputs": [],
   "source": []
  },
  {
   "cell_type": "code",
   "execution_count": null,
   "id": "2c2d9d74",
   "metadata": {},
   "outputs": [],
   "source": []
  }
 ],
 "metadata": {
  "kernelspec": {
   "display_name": "Python 3 (ipykernel)",
   "language": "python",
   "name": "python3"
  },
  "language_info": {
   "codemirror_mode": {
    "name": "ipython",
    "version": 3
   },
   "file_extension": ".py",
   "mimetype": "text/x-python",
   "name": "python",
   "nbconvert_exporter": "python",
   "pygments_lexer": "ipython3",
   "version": "3.9.12"
  }
 },
 "nbformat": 4,
 "nbformat_minor": 5
}
